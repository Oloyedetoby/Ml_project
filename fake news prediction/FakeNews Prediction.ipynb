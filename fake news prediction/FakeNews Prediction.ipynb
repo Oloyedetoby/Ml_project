{
 "cells": [
  {
   "cell_type": "code",
   "execution_count": 1,
   "id": "2db83153",
   "metadata": {},
   "outputs": [],
   "source": [
    "import numpy as np\n",
    "import pandas as pd\n",
    "import re\n",
    "from nltk.corpus import stopwords\n",
    "from nltk.stem.porter import PorterStemmer\n",
    "from sklearn.feature_extraction.text import TfidfVectorizer\n",
    "from sklearn.model_selection import train_test_split\n",
    "from sklearn.linear_model import LogisticRegression\n",
    "from sklearn.metrics import accuracy_score\n",
    "import nltk"
   ]
  },
  {
   "cell_type": "code",
   "execution_count": 2,
   "id": "4e52fbbc",
   "metadata": {},
   "outputs": [
    {
     "name": "stderr",
     "output_type": "stream",
     "text": [
      "C:\\ProgramData\\Anaconda3\\lib\\site-packages\\IPython\\core\\interactiveshell.py:3444: DtypeWarning: Columns (4,5,6,7,8,9,10,11,12,13,14,15,16,17,18,19,20,21,22,23,24,25,26,27,28,29,30,31,32,33,34,35,36,37,38,39,40,41,42,43,44,45,46,47,48,49,50,51,52,53,54,55,56,57,58,59,60,61,62,63,64,65,66,67,68,69,70,71,72,73,74,75,76,77,78,79,80,81,82,83,84,85,86,87,88,89,90,91,92,93,94,95,96,97,98,99,100,101,102,103,104,105,106,107,108,109,110,111,112,113,114,115,116,117,118,119,120,121,122,123,124,125,126,127,128,129,130,131,132,133,134,135,136,137,138,139,140,141,142,143,144,145,146,147,148,149,150,151,152,153,154,155,156,157,158,159,160,161,162,163,164,165,166,167,168,169,170,171) have mixed types.Specify dtype option on import or set low_memory=False.\n",
      "  exec(code_obj, self.user_global_ns, self.user_ns)\n"
     ]
    }
   ],
   "source": [
    "Fakenews = pd.read_csv(\"Fake.csv\")"
   ]
  },
  {
   "cell_type": "code",
   "execution_count": 3,
   "id": "c9ba5575",
   "metadata": {},
   "outputs": [],
   "source": [
    "Truenews = pd.read_csv(\"True.csv\")"
   ]
  },
  {
   "cell_type": "code",
   "execution_count": 4,
   "id": "8bf093cf",
   "metadata": {},
   "outputs": [
    {
     "data": {
      "text/html": [
       "<div>\n",
       "<style scoped>\n",
       "    .dataframe tbody tr th:only-of-type {\n",
       "        vertical-align: middle;\n",
       "    }\n",
       "\n",
       "    .dataframe tbody tr th {\n",
       "        vertical-align: top;\n",
       "    }\n",
       "\n",
       "    .dataframe thead th {\n",
       "        text-align: right;\n",
       "    }\n",
       "</style>\n",
       "<table border=\"1\" class=\"dataframe\">\n",
       "  <thead>\n",
       "    <tr style=\"text-align: right;\">\n",
       "      <th></th>\n",
       "      <th>title</th>\n",
       "      <th>text</th>\n",
       "      <th>subject</th>\n",
       "      <th>date</th>\n",
       "    </tr>\n",
       "  </thead>\n",
       "  <tbody>\n",
       "    <tr>\n",
       "      <th>0</th>\n",
       "      <td>As U.S. budget fight looms, Republicans flip t...</td>\n",
       "      <td>WASHINGTON (Reuters) - The head of a conservat...</td>\n",
       "      <td>politicsNews</td>\n",
       "      <td>31-Dec-17</td>\n",
       "    </tr>\n",
       "    <tr>\n",
       "      <th>1</th>\n",
       "      <td>U.S. military to accept transgender recruits o...</td>\n",
       "      <td>WASHINGTON (Reuters) - Transgender people will...</td>\n",
       "      <td>politicsNews</td>\n",
       "      <td>29-Dec-17</td>\n",
       "    </tr>\n",
       "    <tr>\n",
       "      <th>2</th>\n",
       "      <td>Senior U.S. Republican senator: 'Let Mr. Muell...</td>\n",
       "      <td>WASHINGTON (Reuters) - The special counsel inv...</td>\n",
       "      <td>politicsNews</td>\n",
       "      <td>31-Dec-17</td>\n",
       "    </tr>\n",
       "    <tr>\n",
       "      <th>3</th>\n",
       "      <td>FBI Russia probe helped by Australian diplomat...</td>\n",
       "      <td>WASHINGTON (Reuters) - Trump campaign adviser ...</td>\n",
       "      <td>politicsNews</td>\n",
       "      <td>30-Dec-17</td>\n",
       "    </tr>\n",
       "    <tr>\n",
       "      <th>4</th>\n",
       "      <td>Trump wants Postal Service to charge 'much mor...</td>\n",
       "      <td>SEATTLE/WASHINGTON (Reuters) - President Donal...</td>\n",
       "      <td>politicsNews</td>\n",
       "      <td>29-Dec-17</td>\n",
       "    </tr>\n",
       "    <tr>\n",
       "      <th>5</th>\n",
       "      <td>White House, Congress prepare for talks on spe...</td>\n",
       "      <td>WEST PALM BEACH, Fla./WASHINGTON (Reuters) - T...</td>\n",
       "      <td>politicsNews</td>\n",
       "      <td>29-Dec-17</td>\n",
       "    </tr>\n",
       "    <tr>\n",
       "      <th>6</th>\n",
       "      <td>Trump says Russia probe will be fair, but time...</td>\n",
       "      <td>WEST PALM BEACH, Fla (Reuters) - President Don...</td>\n",
       "      <td>politicsNews</td>\n",
       "      <td>29-Dec-17</td>\n",
       "    </tr>\n",
       "    <tr>\n",
       "      <th>7</th>\n",
       "      <td>Factbox: Trump on Twitter (Dec 29) - Approval ...</td>\n",
       "      <td>The following statements were posted to the ve...</td>\n",
       "      <td>politicsNews</td>\n",
       "      <td>29-Dec-17</td>\n",
       "    </tr>\n",
       "    <tr>\n",
       "      <th>8</th>\n",
       "      <td>Trump on Twitter (Dec 28) - Global Warming</td>\n",
       "      <td>The following statements were posted to the ve...</td>\n",
       "      <td>politicsNews</td>\n",
       "      <td>29-Dec-17</td>\n",
       "    </tr>\n",
       "    <tr>\n",
       "      <th>9</th>\n",
       "      <td>Alabama official to certify Senator-elect Jone...</td>\n",
       "      <td>WASHINGTON (Reuters) - Alabama Secretary of St...</td>\n",
       "      <td>politicsNews</td>\n",
       "      <td>28-Dec-17</td>\n",
       "    </tr>\n",
       "  </tbody>\n",
       "</table>\n",
       "</div>"
      ],
      "text/plain": [
       "                                               title  \\\n",
       "0  As U.S. budget fight looms, Republicans flip t...   \n",
       "1  U.S. military to accept transgender recruits o...   \n",
       "2  Senior U.S. Republican senator: 'Let Mr. Muell...   \n",
       "3  FBI Russia probe helped by Australian diplomat...   \n",
       "4  Trump wants Postal Service to charge 'much mor...   \n",
       "5  White House, Congress prepare for talks on spe...   \n",
       "6  Trump says Russia probe will be fair, but time...   \n",
       "7  Factbox: Trump on Twitter (Dec 29) - Approval ...   \n",
       "8         Trump on Twitter (Dec 28) - Global Warming   \n",
       "9  Alabama official to certify Senator-elect Jone...   \n",
       "\n",
       "                                                text       subject       date  \n",
       "0  WASHINGTON (Reuters) - The head of a conservat...  politicsNews  31-Dec-17  \n",
       "1  WASHINGTON (Reuters) - Transgender people will...  politicsNews  29-Dec-17  \n",
       "2  WASHINGTON (Reuters) - The special counsel inv...  politicsNews  31-Dec-17  \n",
       "3  WASHINGTON (Reuters) - Trump campaign adviser ...  politicsNews  30-Dec-17  \n",
       "4  SEATTLE/WASHINGTON (Reuters) - President Donal...  politicsNews  29-Dec-17  \n",
       "5  WEST PALM BEACH, Fla./WASHINGTON (Reuters) - T...  politicsNews  29-Dec-17  \n",
       "6  WEST PALM BEACH, Fla (Reuters) - President Don...  politicsNews  29-Dec-17  \n",
       "7  The following statements were posted to the ve...  politicsNews  29-Dec-17  \n",
       "8  The following statements were posted to the ve...  politicsNews  29-Dec-17  \n",
       "9  WASHINGTON (Reuters) - Alabama Secretary of St...  politicsNews  28-Dec-17  "
      ]
     },
     "execution_count": 4,
     "metadata": {},
     "output_type": "execute_result"
    }
   ],
   "source": [
    "Truenews.head(10)"
   ]
  },
  {
   "cell_type": "code",
   "execution_count": 5,
   "id": "0f90f5ee",
   "metadata": {},
   "outputs": [
    {
     "data": {
      "text/html": [
       "<div>\n",
       "<style scoped>\n",
       "    .dataframe tbody tr th:only-of-type {\n",
       "        vertical-align: middle;\n",
       "    }\n",
       "\n",
       "    .dataframe tbody tr th {\n",
       "        vertical-align: top;\n",
       "    }\n",
       "\n",
       "    .dataframe thead th {\n",
       "        text-align: right;\n",
       "    }\n",
       "</style>\n",
       "<table border=\"1\" class=\"dataframe\">\n",
       "  <thead>\n",
       "    <tr style=\"text-align: right;\">\n",
       "      <th></th>\n",
       "      <th>title</th>\n",
       "      <th>text</th>\n",
       "      <th>subject</th>\n",
       "      <th>date</th>\n",
       "      <th>Unnamed: 4</th>\n",
       "      <th>Unnamed: 5</th>\n",
       "      <th>Unnamed: 6</th>\n",
       "      <th>Unnamed: 7</th>\n",
       "      <th>Unnamed: 8</th>\n",
       "      <th>Unnamed: 9</th>\n",
       "      <th>...</th>\n",
       "      <th>Unnamed: 162</th>\n",
       "      <th>Unnamed: 163</th>\n",
       "      <th>Unnamed: 164</th>\n",
       "      <th>Unnamed: 165</th>\n",
       "      <th>Unnamed: 166</th>\n",
       "      <th>Unnamed: 167</th>\n",
       "      <th>Unnamed: 168</th>\n",
       "      <th>Unnamed: 169</th>\n",
       "      <th>Unnamed: 170</th>\n",
       "      <th>Unnamed: 171</th>\n",
       "    </tr>\n",
       "  </thead>\n",
       "  <tbody>\n",
       "    <tr>\n",
       "      <th>0</th>\n",
       "      <td>Donald Trump Sends Out Embarrassing New Year’...</td>\n",
       "      <td>Donald Trump just couldn t wish all Americans ...</td>\n",
       "      <td>News</td>\n",
       "      <td>31-Dec-17</td>\n",
       "      <td>NaN</td>\n",
       "      <td>NaN</td>\n",
       "      <td>NaN</td>\n",
       "      <td>NaN</td>\n",
       "      <td>NaN</td>\n",
       "      <td>NaN</td>\n",
       "      <td>...</td>\n",
       "      <td>NaN</td>\n",
       "      <td>NaN</td>\n",
       "      <td>NaN</td>\n",
       "      <td>NaN</td>\n",
       "      <td>NaN</td>\n",
       "      <td>NaN</td>\n",
       "      <td>NaN</td>\n",
       "      <td>NaN</td>\n",
       "      <td>NaN</td>\n",
       "      <td>NaN</td>\n",
       "    </tr>\n",
       "    <tr>\n",
       "      <th>1</th>\n",
       "      <td>Drunk Bragging Trump Staffer Started Russian ...</td>\n",
       "      <td>House Intelligence Committee Chairman Devin Nu...</td>\n",
       "      <td>News</td>\n",
       "      <td>31-Dec-17</td>\n",
       "      <td>NaN</td>\n",
       "      <td>NaN</td>\n",
       "      <td>NaN</td>\n",
       "      <td>NaN</td>\n",
       "      <td>NaN</td>\n",
       "      <td>NaN</td>\n",
       "      <td>...</td>\n",
       "      <td>NaN</td>\n",
       "      <td>NaN</td>\n",
       "      <td>NaN</td>\n",
       "      <td>NaN</td>\n",
       "      <td>NaN</td>\n",
       "      <td>NaN</td>\n",
       "      <td>NaN</td>\n",
       "      <td>NaN</td>\n",
       "      <td>NaN</td>\n",
       "      <td>NaN</td>\n",
       "    </tr>\n",
       "    <tr>\n",
       "      <th>2</th>\n",
       "      <td>Sheriff David Clarke Becomes An Internet Joke...</td>\n",
       "      <td>On Friday, it was revealed that former Milwauk...</td>\n",
       "      <td>News</td>\n",
       "      <td>30-Dec-17</td>\n",
       "      <td>NaN</td>\n",
       "      <td>NaN</td>\n",
       "      <td>NaN</td>\n",
       "      <td>NaN</td>\n",
       "      <td>NaN</td>\n",
       "      <td>NaN</td>\n",
       "      <td>...</td>\n",
       "      <td>NaN</td>\n",
       "      <td>NaN</td>\n",
       "      <td>NaN</td>\n",
       "      <td>NaN</td>\n",
       "      <td>NaN</td>\n",
       "      <td>NaN</td>\n",
       "      <td>NaN</td>\n",
       "      <td>NaN</td>\n",
       "      <td>NaN</td>\n",
       "      <td>NaN</td>\n",
       "    </tr>\n",
       "  </tbody>\n",
       "</table>\n",
       "<p>3 rows × 172 columns</p>\n",
       "</div>"
      ],
      "text/plain": [
       "                                               title  \\\n",
       "0   Donald Trump Sends Out Embarrassing New Year’...   \n",
       "1   Drunk Bragging Trump Staffer Started Russian ...   \n",
       "2   Sheriff David Clarke Becomes An Internet Joke...   \n",
       "\n",
       "                                                text subject       date  \\\n",
       "0  Donald Trump just couldn t wish all Americans ...    News  31-Dec-17   \n",
       "1  House Intelligence Committee Chairman Devin Nu...    News  31-Dec-17   \n",
       "2  On Friday, it was revealed that former Milwauk...    News  30-Dec-17   \n",
       "\n",
       "  Unnamed: 4 Unnamed: 5 Unnamed: 6 Unnamed: 7 Unnamed: 8 Unnamed: 9  ...  \\\n",
       "0        NaN        NaN        NaN        NaN        NaN        NaN  ...   \n",
       "1        NaN        NaN        NaN        NaN        NaN        NaN  ...   \n",
       "2        NaN        NaN        NaN        NaN        NaN        NaN  ...   \n",
       "\n",
       "  Unnamed: 162 Unnamed: 163 Unnamed: 164 Unnamed: 165 Unnamed: 166  \\\n",
       "0          NaN          NaN          NaN          NaN          NaN   \n",
       "1          NaN          NaN          NaN          NaN          NaN   \n",
       "2          NaN          NaN          NaN          NaN          NaN   \n",
       "\n",
       "  Unnamed: 167 Unnamed: 168 Unnamed: 169 Unnamed: 170 Unnamed: 171  \n",
       "0          NaN          NaN          NaN          NaN          NaN  \n",
       "1          NaN          NaN          NaN          NaN          NaN  \n",
       "2          NaN          NaN          NaN          NaN          NaN  \n",
       "\n",
       "[3 rows x 172 columns]"
      ]
     },
     "execution_count": 5,
     "metadata": {},
     "output_type": "execute_result"
    }
   ],
   "source": [
    "Fakenews.head(3)"
   ]
  },
  {
   "cell_type": "code",
   "execution_count": 6,
   "id": "c2c7a4e2",
   "metadata": {},
   "outputs": [
    {
     "data": {
      "text/html": [
       "<div>\n",
       "<style scoped>\n",
       "    .dataframe tbody tr th:only-of-type {\n",
       "        vertical-align: middle;\n",
       "    }\n",
       "\n",
       "    .dataframe tbody tr th {\n",
       "        vertical-align: top;\n",
       "    }\n",
       "\n",
       "    .dataframe thead th {\n",
       "        text-align: right;\n",
       "    }\n",
       "</style>\n",
       "<table border=\"1\" class=\"dataframe\">\n",
       "  <thead>\n",
       "    <tr style=\"text-align: right;\">\n",
       "      <th></th>\n",
       "      <th>title</th>\n",
       "      <th>text</th>\n",
       "      <th>subject</th>\n",
       "      <th>date</th>\n",
       "    </tr>\n",
       "  </thead>\n",
       "  <tbody>\n",
       "    <tr>\n",
       "      <th>0</th>\n",
       "      <td>Donald Trump Sends Out Embarrassing New Year’...</td>\n",
       "      <td>Donald Trump just couldn t wish all Americans ...</td>\n",
       "      <td>News</td>\n",
       "      <td>31-Dec-17</td>\n",
       "    </tr>\n",
       "    <tr>\n",
       "      <th>1</th>\n",
       "      <td>Drunk Bragging Trump Staffer Started Russian ...</td>\n",
       "      <td>House Intelligence Committee Chairman Devin Nu...</td>\n",
       "      <td>News</td>\n",
       "      <td>31-Dec-17</td>\n",
       "    </tr>\n",
       "  </tbody>\n",
       "</table>\n",
       "</div>"
      ],
      "text/plain": [
       "                                               title  \\\n",
       "0   Donald Trump Sends Out Embarrassing New Year’...   \n",
       "1   Drunk Bragging Trump Staffer Started Russian ...   \n",
       "\n",
       "                                                text subject       date  \n",
       "0  Donald Trump just couldn t wish all Americans ...    News  31-Dec-17  \n",
       "1  House Intelligence Committee Chairman Devin Nu...    News  31-Dec-17  "
      ]
     },
     "execution_count": 6,
     "metadata": {},
     "output_type": "execute_result"
    }
   ],
   "source": [
    "i = 4\n",
    "for i in range(172):\n",
    "    if i>3:\n",
    "        #print(i)\n",
    "        Fakenews.drop(['Unnamed: %d' %(i)],  axis = 'columns' , inplace = True)\n",
    "    \n",
    "Fakenews.head(2)"
   ]
  },
  {
   "cell_type": "code",
   "execution_count": 7,
   "id": "e273fca5",
   "metadata": {},
   "outputs": [
    {
     "data": {
      "text/plain": [
       "title      False\n",
       "text       False\n",
       "subject    False\n",
       "date       False\n",
       "dtype: bool"
      ]
     },
     "execution_count": 7,
     "metadata": {},
     "output_type": "execute_result"
    }
   ],
   "source": [
    "Truenews.isna().any()"
   ]
  },
  {
   "cell_type": "code",
   "execution_count": 8,
   "id": "a83b780e",
   "metadata": {},
   "outputs": [
    {
     "data": {
      "text/plain": [
       "title      False\n",
       "text       False\n",
       "subject     True\n",
       "date        True\n",
       "dtype: bool"
      ]
     },
     "execution_count": 8,
     "metadata": {},
     "output_type": "execute_result"
    }
   ],
   "source": [
    "Fakenews.isna().any()"
   ]
  },
  {
   "cell_type": "code",
   "execution_count": 9,
   "id": "6735026b",
   "metadata": {},
   "outputs": [
    {
     "data": {
      "text/html": [
       "<div>\n",
       "<style scoped>\n",
       "    .dataframe tbody tr th:only-of-type {\n",
       "        vertical-align: middle;\n",
       "    }\n",
       "\n",
       "    .dataframe tbody tr th {\n",
       "        vertical-align: top;\n",
       "    }\n",
       "\n",
       "    .dataframe thead th {\n",
       "        text-align: right;\n",
       "    }\n",
       "</style>\n",
       "<table border=\"1\" class=\"dataframe\">\n",
       "  <thead>\n",
       "    <tr style=\"text-align: right;\">\n",
       "      <th></th>\n",
       "      <th>title</th>\n",
       "      <th>text</th>\n",
       "      <th>subject</th>\n",
       "      <th>date</th>\n",
       "    </tr>\n",
       "  </thead>\n",
       "  <tbody>\n",
       "    <tr>\n",
       "      <th>9731</th>\n",
       "      <td>ANTI-AMERICAN GEORGE SOROS Locks Arms With NFL...</td>\n",
       "      <td>We just discovered another reason NOT to suppo...</td>\n",
       "      <td>NaN</td>\n",
       "      <td>NaN</td>\n",
       "    </tr>\n",
       "    <tr>\n",
       "      <th>12407</th>\n",
       "      <td>WOW! AMERICA IS UNDER ATTACK By These 187 Orga...</td>\n",
       "      <td>There have been many articles written about Ge...</td>\n",
       "      <td>NaN</td>\n",
       "      <td>NaN</td>\n",
       "    </tr>\n",
       "    <tr>\n",
       "      <th>13362</th>\n",
       "      <td>A MUST READ! Here’s Why Voting For DONALD TRUM...</td>\n",
       "      <td>This is a must read for anyone who s undecided...</td>\n",
       "      <td>NaN</td>\n",
       "      <td>NaN</td>\n",
       "    </tr>\n",
       "    <tr>\n",
       "      <th>17852</th>\n",
       "      <td>ANTI-AMERICAN GEORGE SOROS Locks Arms With NFL...</td>\n",
       "      <td>We just discovered another reason NOT to suppo...</td>\n",
       "      <td>NaN</td>\n",
       "      <td>NaN</td>\n",
       "    </tr>\n",
       "    <tr>\n",
       "      <th>19625</th>\n",
       "      <td>WOW! AMERICA IS UNDER ATTACK By These 187 Orga...</td>\n",
       "      <td>There have been many articles written about Ge...</td>\n",
       "      <td>NaN</td>\n",
       "      <td>NaN</td>\n",
       "    </tr>\n",
       "  </tbody>\n",
       "</table>\n",
       "</div>"
      ],
      "text/plain": [
       "                                                   title  \\\n",
       "9731   ANTI-AMERICAN GEORGE SOROS Locks Arms With NFL...   \n",
       "12407  WOW! AMERICA IS UNDER ATTACK By These 187 Orga...   \n",
       "13362  A MUST READ! Here’s Why Voting For DONALD TRUM...   \n",
       "17852  ANTI-AMERICAN GEORGE SOROS Locks Arms With NFL...   \n",
       "19625  WOW! AMERICA IS UNDER ATTACK By These 187 Orga...   \n",
       "\n",
       "                                                    text subject date  \n",
       "9731   We just discovered another reason NOT to suppo...     NaN  NaN  \n",
       "12407  There have been many articles written about Ge...     NaN  NaN  \n",
       "13362  This is a must read for anyone who s undecided...     NaN  NaN  \n",
       "17852  We just discovered another reason NOT to suppo...     NaN  NaN  \n",
       "19625  There have been many articles written about Ge...     NaN  NaN  "
      ]
     },
     "execution_count": 9,
     "metadata": {},
     "output_type": "execute_result"
    }
   ],
   "source": [
    "Fakenews[Fakenews.subject.isna()== True].head(5)"
   ]
  },
  {
   "cell_type": "code",
   "execution_count": 10,
   "id": "1924cc9a",
   "metadata": {},
   "outputs": [
    {
     "data": {
      "text/plain": [
       "21"
      ]
     },
     "execution_count": 10,
     "metadata": {},
     "output_type": "execute_result"
    }
   ],
   "source": [
    "Fakenews.subject.isna().sum()"
   ]
  },
  {
   "cell_type": "code",
   "execution_count": 11,
   "id": "0d302651",
   "metadata": {},
   "outputs": [],
   "source": [
    "Fakenews1 = Fakenews.fillna('')"
   ]
  },
  {
   "cell_type": "code",
   "execution_count": 12,
   "id": "2fd97fc6",
   "metadata": {},
   "outputs": [
    {
     "data": {
      "text/plain": [
       "title      False\n",
       "text       False\n",
       "subject    False\n",
       "date       False\n",
       "dtype: bool"
      ]
     },
     "execution_count": 12,
     "metadata": {},
     "output_type": "execute_result"
    }
   ],
   "source": [
    "Fakenews1.isna().any()"
   ]
  },
  {
   "cell_type": "code",
   "execution_count": 13,
   "id": "6bb002ef",
   "metadata": {},
   "outputs": [],
   "source": [
    "Truenews['label'] = 0\n",
    "Fakenews1['label']= 1"
   ]
  },
  {
   "cell_type": "code",
   "execution_count": 14,
   "id": "3ee3ce0b",
   "metadata": {},
   "outputs": [
    {
     "name": "stdout",
     "output_type": "stream",
     "text": [
      "(21417, 5)\n"
     ]
    },
    {
     "data": {
      "text/html": [
       "<div>\n",
       "<style scoped>\n",
       "    .dataframe tbody tr th:only-of-type {\n",
       "        vertical-align: middle;\n",
       "    }\n",
       "\n",
       "    .dataframe tbody tr th {\n",
       "        vertical-align: top;\n",
       "    }\n",
       "\n",
       "    .dataframe thead th {\n",
       "        text-align: right;\n",
       "    }\n",
       "</style>\n",
       "<table border=\"1\" class=\"dataframe\">\n",
       "  <thead>\n",
       "    <tr style=\"text-align: right;\">\n",
       "      <th></th>\n",
       "      <th>title</th>\n",
       "      <th>text</th>\n",
       "      <th>subject</th>\n",
       "      <th>date</th>\n",
       "      <th>label</th>\n",
       "    </tr>\n",
       "  </thead>\n",
       "  <tbody>\n",
       "    <tr>\n",
       "      <th>0</th>\n",
       "      <td>As U.S. budget fight looms, Republicans flip t...</td>\n",
       "      <td>WASHINGTON (Reuters) - The head of a conservat...</td>\n",
       "      <td>politicsNews</td>\n",
       "      <td>31-Dec-17</td>\n",
       "      <td>0</td>\n",
       "    </tr>\n",
       "    <tr>\n",
       "      <th>1</th>\n",
       "      <td>U.S. military to accept transgender recruits o...</td>\n",
       "      <td>WASHINGTON (Reuters) - Transgender people will...</td>\n",
       "      <td>politicsNews</td>\n",
       "      <td>29-Dec-17</td>\n",
       "      <td>0</td>\n",
       "    </tr>\n",
       "  </tbody>\n",
       "</table>\n",
       "</div>"
      ],
      "text/plain": [
       "                                               title  \\\n",
       "0  As U.S. budget fight looms, Republicans flip t...   \n",
       "1  U.S. military to accept transgender recruits o...   \n",
       "\n",
       "                                                text       subject       date  \\\n",
       "0  WASHINGTON (Reuters) - The head of a conservat...  politicsNews  31-Dec-17   \n",
       "1  WASHINGTON (Reuters) - Transgender people will...  politicsNews  29-Dec-17   \n",
       "\n",
       "   label  \n",
       "0      0  \n",
       "1      0  "
      ]
     },
     "execution_count": 14,
     "metadata": {},
     "output_type": "execute_result"
    }
   ],
   "source": [
    "print(Truenews.shape)\n",
    "Truenews.head(2)"
   ]
  },
  {
   "cell_type": "code",
   "execution_count": 15,
   "id": "ea552c77",
   "metadata": {},
   "outputs": [
    {
     "name": "stdout",
     "output_type": "stream",
     "text": [
      "(23502, 5)\n"
     ]
    },
    {
     "data": {
      "text/html": [
       "<div>\n",
       "<style scoped>\n",
       "    .dataframe tbody tr th:only-of-type {\n",
       "        vertical-align: middle;\n",
       "    }\n",
       "\n",
       "    .dataframe tbody tr th {\n",
       "        vertical-align: top;\n",
       "    }\n",
       "\n",
       "    .dataframe thead th {\n",
       "        text-align: right;\n",
       "    }\n",
       "</style>\n",
       "<table border=\"1\" class=\"dataframe\">\n",
       "  <thead>\n",
       "    <tr style=\"text-align: right;\">\n",
       "      <th></th>\n",
       "      <th>title</th>\n",
       "      <th>text</th>\n",
       "      <th>subject</th>\n",
       "      <th>date</th>\n",
       "      <th>label</th>\n",
       "    </tr>\n",
       "  </thead>\n",
       "  <tbody>\n",
       "    <tr>\n",
       "      <th>0</th>\n",
       "      <td>Donald Trump Sends Out Embarrassing New Year’...</td>\n",
       "      <td>Donald Trump just couldn t wish all Americans ...</td>\n",
       "      <td>News</td>\n",
       "      <td>31-Dec-17</td>\n",
       "      <td>1</td>\n",
       "    </tr>\n",
       "    <tr>\n",
       "      <th>1</th>\n",
       "      <td>Drunk Bragging Trump Staffer Started Russian ...</td>\n",
       "      <td>House Intelligence Committee Chairman Devin Nu...</td>\n",
       "      <td>News</td>\n",
       "      <td>31-Dec-17</td>\n",
       "      <td>1</td>\n",
       "    </tr>\n",
       "  </tbody>\n",
       "</table>\n",
       "</div>"
      ],
      "text/plain": [
       "                                               title  \\\n",
       "0   Donald Trump Sends Out Embarrassing New Year’...   \n",
       "1   Drunk Bragging Trump Staffer Started Russian ...   \n",
       "\n",
       "                                                text subject       date  label  \n",
       "0  Donald Trump just couldn t wish all Americans ...    News  31-Dec-17      1  \n",
       "1  House Intelligence Committee Chairman Devin Nu...    News  31-Dec-17      1  "
      ]
     },
     "execution_count": 15,
     "metadata": {},
     "output_type": "execute_result"
    }
   ],
   "source": [
    "print(Fakenews1.shape)\n",
    "Fakenews1.head(2)"
   ]
  },
  {
   "cell_type": "code",
   "execution_count": 16,
   "id": "82fa9a52",
   "metadata": {},
   "outputs": [],
   "source": [
    "newdataset = pd.concat([Truenews,Fakenews1], axis = 0)"
   ]
  },
  {
   "cell_type": "code",
   "execution_count": 17,
   "id": "7adf5072",
   "metadata": {},
   "outputs": [
    {
     "data": {
      "text/html": [
       "<div>\n",
       "<style scoped>\n",
       "    .dataframe tbody tr th:only-of-type {\n",
       "        vertical-align: middle;\n",
       "    }\n",
       "\n",
       "    .dataframe tbody tr th {\n",
       "        vertical-align: top;\n",
       "    }\n",
       "\n",
       "    .dataframe thead th {\n",
       "        text-align: right;\n",
       "    }\n",
       "</style>\n",
       "<table border=\"1\" class=\"dataframe\">\n",
       "  <thead>\n",
       "    <tr style=\"text-align: right;\">\n",
       "      <th></th>\n",
       "      <th>title</th>\n",
       "      <th>text</th>\n",
       "      <th>subject</th>\n",
       "      <th>date</th>\n",
       "      <th>label</th>\n",
       "    </tr>\n",
       "  </thead>\n",
       "  <tbody>\n",
       "    <tr>\n",
       "      <th>0</th>\n",
       "      <td>As U.S. budget fight looms, Republicans flip t...</td>\n",
       "      <td>WASHINGTON (Reuters) - The head of a conservat...</td>\n",
       "      <td>politicsNews</td>\n",
       "      <td>31-Dec-17</td>\n",
       "      <td>0</td>\n",
       "    </tr>\n",
       "    <tr>\n",
       "      <th>1</th>\n",
       "      <td>U.S. military to accept transgender recruits o...</td>\n",
       "      <td>WASHINGTON (Reuters) - Transgender people will...</td>\n",
       "      <td>politicsNews</td>\n",
       "      <td>29-Dec-17</td>\n",
       "      <td>0</td>\n",
       "    </tr>\n",
       "    <tr>\n",
       "      <th>2</th>\n",
       "      <td>Senior U.S. Republican senator: 'Let Mr. Muell...</td>\n",
       "      <td>WASHINGTON (Reuters) - The special counsel inv...</td>\n",
       "      <td>politicsNews</td>\n",
       "      <td>31-Dec-17</td>\n",
       "      <td>0</td>\n",
       "    </tr>\n",
       "    <tr>\n",
       "      <th>3</th>\n",
       "      <td>FBI Russia probe helped by Australian diplomat...</td>\n",
       "      <td>WASHINGTON (Reuters) - Trump campaign adviser ...</td>\n",
       "      <td>politicsNews</td>\n",
       "      <td>30-Dec-17</td>\n",
       "      <td>0</td>\n",
       "    </tr>\n",
       "    <tr>\n",
       "      <th>4</th>\n",
       "      <td>Trump wants Postal Service to charge 'much mor...</td>\n",
       "      <td>SEATTLE/WASHINGTON (Reuters) - President Donal...</td>\n",
       "      <td>politicsNews</td>\n",
       "      <td>29-Dec-17</td>\n",
       "      <td>0</td>\n",
       "    </tr>\n",
       "    <tr>\n",
       "      <th>...</th>\n",
       "      <td>...</td>\n",
       "      <td>...</td>\n",
       "      <td>...</td>\n",
       "      <td>...</td>\n",
       "      <td>...</td>\n",
       "    </tr>\n",
       "    <tr>\n",
       "      <th>23497</th>\n",
       "      <td>McPain: John McCain Furious That Iran Treated ...</td>\n",
       "      <td>21st Century Wire says As 21WIRE reported earl...</td>\n",
       "      <td>Middle-east</td>\n",
       "      <td>16-Jan-16</td>\n",
       "      <td>1</td>\n",
       "    </tr>\n",
       "    <tr>\n",
       "      <th>23498</th>\n",
       "      <td>JUSTICE? Yahoo Settles E-mail Privacy Class-ac...</td>\n",
       "      <td>21st Century Wire says It s a familiar theme. ...</td>\n",
       "      <td>Middle-east</td>\n",
       "      <td>16-Jan-16</td>\n",
       "      <td>1</td>\n",
       "    </tr>\n",
       "    <tr>\n",
       "      <th>23499</th>\n",
       "      <td>Sunnistan: US and Allied ‘Safe Zone’ Plan to T...</td>\n",
       "      <td>Patrick Henningsen  21st Century WireRemember ...</td>\n",
       "      <td>Middle-east</td>\n",
       "      <td>15-Jan-16</td>\n",
       "      <td>1</td>\n",
       "    </tr>\n",
       "    <tr>\n",
       "      <th>23500</th>\n",
       "      <td>How to Blow $700 Million: Al Jazeera America F...</td>\n",
       "      <td>21st Century Wire says Al Jazeera America will...</td>\n",
       "      <td>Middle-east</td>\n",
       "      <td>14-Jan-16</td>\n",
       "      <td>1</td>\n",
       "    </tr>\n",
       "    <tr>\n",
       "      <th>23501</th>\n",
       "      <td>10 U.S. Navy Sailors Held by Iranian Military ...</td>\n",
       "      <td>21st Century Wire says As 21WIRE predicted in ...</td>\n",
       "      <td>Middle-east</td>\n",
       "      <td>12-Jan-16</td>\n",
       "      <td>1</td>\n",
       "    </tr>\n",
       "  </tbody>\n",
       "</table>\n",
       "<p>44919 rows × 5 columns</p>\n",
       "</div>"
      ],
      "text/plain": [
       "                                                   title  \\\n",
       "0      As U.S. budget fight looms, Republicans flip t...   \n",
       "1      U.S. military to accept transgender recruits o...   \n",
       "2      Senior U.S. Republican senator: 'Let Mr. Muell...   \n",
       "3      FBI Russia probe helped by Australian diplomat...   \n",
       "4      Trump wants Postal Service to charge 'much mor...   \n",
       "...                                                  ...   \n",
       "23497  McPain: John McCain Furious That Iran Treated ...   \n",
       "23498  JUSTICE? Yahoo Settles E-mail Privacy Class-ac...   \n",
       "23499  Sunnistan: US and Allied ‘Safe Zone’ Plan to T...   \n",
       "23500  How to Blow $700 Million: Al Jazeera America F...   \n",
       "23501  10 U.S. Navy Sailors Held by Iranian Military ...   \n",
       "\n",
       "                                                    text       subject  \\\n",
       "0      WASHINGTON (Reuters) - The head of a conservat...  politicsNews   \n",
       "1      WASHINGTON (Reuters) - Transgender people will...  politicsNews   \n",
       "2      WASHINGTON (Reuters) - The special counsel inv...  politicsNews   \n",
       "3      WASHINGTON (Reuters) - Trump campaign adviser ...  politicsNews   \n",
       "4      SEATTLE/WASHINGTON (Reuters) - President Donal...  politicsNews   \n",
       "...                                                  ...           ...   \n",
       "23497  21st Century Wire says As 21WIRE reported earl...   Middle-east   \n",
       "23498  21st Century Wire says It s a familiar theme. ...   Middle-east   \n",
       "23499  Patrick Henningsen  21st Century WireRemember ...   Middle-east   \n",
       "23500  21st Century Wire says Al Jazeera America will...   Middle-east   \n",
       "23501  21st Century Wire says As 21WIRE predicted in ...   Middle-east   \n",
       "\n",
       "            date  label  \n",
       "0      31-Dec-17      0  \n",
       "1      29-Dec-17      0  \n",
       "2      31-Dec-17      0  \n",
       "3      30-Dec-17      0  \n",
       "4      29-Dec-17      0  \n",
       "...          ...    ...  \n",
       "23497  16-Jan-16      1  \n",
       "23498  16-Jan-16      1  \n",
       "23499  15-Jan-16      1  \n",
       "23500  14-Jan-16      1  \n",
       "23501  12-Jan-16      1  \n",
       "\n",
       "[44919 rows x 5 columns]"
      ]
     },
     "execution_count": 17,
     "metadata": {},
     "output_type": "execute_result"
    }
   ],
   "source": [
    "newdataset"
   ]
  },
  {
   "cell_type": "code",
   "execution_count": 18,
   "id": "0c938c32",
   "metadata": {},
   "outputs": [
    {
     "data": {
      "text/html": [
       "<div>\n",
       "<style scoped>\n",
       "    .dataframe tbody tr th:only-of-type {\n",
       "        vertical-align: middle;\n",
       "    }\n",
       "\n",
       "    .dataframe tbody tr th {\n",
       "        vertical-align: top;\n",
       "    }\n",
       "\n",
       "    .dataframe thead th {\n",
       "        text-align: right;\n",
       "    }\n",
       "</style>\n",
       "<table border=\"1\" class=\"dataframe\">\n",
       "  <thead>\n",
       "    <tr style=\"text-align: right;\">\n",
       "      <th></th>\n",
       "      <th>title</th>\n",
       "      <th>text</th>\n",
       "      <th>subject</th>\n",
       "      <th>date</th>\n",
       "      <th>label</th>\n",
       "    </tr>\n",
       "  </thead>\n",
       "  <tbody>\n",
       "    <tr>\n",
       "      <th>15940</th>\n",
       "      <td>Russian bombers hit militant targets in Syria'...</td>\n",
       "      <td>MOSCOW (Reuters) - Six long-range strategic bo...</td>\n",
       "      <td>worldnews</td>\n",
       "      <td>1-Nov-17</td>\n",
       "      <td>0</td>\n",
       "    </tr>\n",
       "    <tr>\n",
       "      <th>14114</th>\n",
       "      <td>WOMAN CRIES After Seeing How Easily Our Votes ...</td>\n",
       "      <td>There are people out there who are giving the...</td>\n",
       "      <td>politics</td>\n",
       "      <td>15-Apr-16</td>\n",
       "      <td>1</td>\n",
       "    </tr>\n",
       "    <tr>\n",
       "      <th>9291</th>\n",
       "      <td>NATO's top soldier says Trump comments play in...</td>\n",
       "      <td>SINGAPORE (Reuters) - NATO’s top military offi...</td>\n",
       "      <td>politicsNews</td>\n",
       "      <td>3-Jun-16</td>\n",
       "      <td>0</td>\n",
       "    </tr>\n",
       "    <tr>\n",
       "      <th>23089</th>\n",
       "      <td>CNN’s Don Lemon Tries to Downplay Horrific ‘An...</td>\n",
       "      <td>In case you missed it, CNN anchor Don Lemon we...</td>\n",
       "      <td>Middle-east</td>\n",
       "      <td>6-Jan-17</td>\n",
       "      <td>1</td>\n",
       "    </tr>\n",
       "    <tr>\n",
       "      <th>18566</th>\n",
       "      <td>HILLARY APPEARS Wearing “Anti-Seizure” Sunglas...</td>\n",
       "      <td>Remember when experts came out after Hillary c...</td>\n",
       "      <td>left-news</td>\n",
       "      <td>30-May-17</td>\n",
       "      <td>1</td>\n",
       "    </tr>\n",
       "    <tr>\n",
       "      <th>13524</th>\n",
       "      <td>HOW HILLARY’S ANTI-COP Past And Support For Vi...</td>\n",
       "      <td>Maybe the Left became a bit too optimistic aft...</td>\n",
       "      <td>politics</td>\n",
       "      <td>14-Jul-16</td>\n",
       "      <td>1</td>\n",
       "    </tr>\n",
       "    <tr>\n",
       "      <th>1858</th>\n",
       "      <td>Syrian Air Base Trump Spent $80 Million Attac...</td>\n",
       "      <td>The Syrian air base Trump spent $80 million bo...</td>\n",
       "      <td>News</td>\n",
       "      <td>7-Apr-17</td>\n",
       "      <td>1</td>\n",
       "    </tr>\n",
       "    <tr>\n",
       "      <th>10427</th>\n",
       "      <td>#YouveBeenTrumped…Journalist Who Tried To Nail...</td>\n",
       "      <td>This is the dumbest and biggest crime in the h...</td>\n",
       "      <td>politics</td>\n",
       "      <td>11-Jul-17</td>\n",
       "      <td>1</td>\n",
       "    </tr>\n",
       "    <tr>\n",
       "      <th>19936</th>\n",
       "      <td>U.S. nearing limits of diplomacy on North Kore...</td>\n",
       "      <td>WASHINGTON (Reuters) - White House national se...</td>\n",
       "      <td>worldnews</td>\n",
       "      <td>15-Sep-17</td>\n",
       "      <td>0</td>\n",
       "    </tr>\n",
       "    <tr>\n",
       "      <th>21314</th>\n",
       "      <td>Explain your results, beaten Angola party head...</td>\n",
       "      <td>LUANDA (Reuters) - The leader of Angola s main...</td>\n",
       "      <td>worldnews</td>\n",
       "      <td>26-Aug-17</td>\n",
       "      <td>0</td>\n",
       "    </tr>\n",
       "    <tr>\n",
       "      <th>13829</th>\n",
       "      <td>Islamic State raises stakes with Egypt mosque ...</td>\n",
       "      <td>ISMAILIA, Egypt (Reuters) - The mosque was pac...</td>\n",
       "      <td>worldnews</td>\n",
       "      <td>26-Nov-17</td>\n",
       "      <td>0</td>\n",
       "    </tr>\n",
       "    <tr>\n",
       "      <th>299</th>\n",
       "      <td>Wounded Veteran CONDEMNS Trump For Using Him ...</td>\n",
       "      <td>Donald Trump thought he could get away with us...</td>\n",
       "      <td>News</td>\n",
       "      <td>28-Sep-17</td>\n",
       "      <td>1</td>\n",
       "    </tr>\n",
       "    <tr>\n",
       "      <th>19188</th>\n",
       "      <td>Swiss voters reject raising women's retirement...</td>\n",
       "      <td>ZURICH (Reuters) - Swiss voters rejected raisi...</td>\n",
       "      <td>worldnews</td>\n",
       "      <td>24-Sep-17</td>\n",
       "      <td>0</td>\n",
       "    </tr>\n",
       "    <tr>\n",
       "      <th>18267</th>\n",
       "      <td>Brazil's congress sets up fund to cover lack o...</td>\n",
       "      <td>BRASILIA (Reuters) - Brazil s scandal-plagued ...</td>\n",
       "      <td>worldnews</td>\n",
       "      <td>5-Oct-17</td>\n",
       "      <td>0</td>\n",
       "    </tr>\n",
       "    <tr>\n",
       "      <th>879</th>\n",
       "      <td>Idiot Donald Trump Jr. Just Released Russian ...</td>\n",
       "      <td>Donald Trump Jr. may have been born with a sil...</td>\n",
       "      <td>News</td>\n",
       "      <td>11-Jul-17</td>\n",
       "      <td>1</td>\n",
       "    </tr>\n",
       "    <tr>\n",
       "      <th>12440</th>\n",
       "      <td>Latest fire in Chinese capital kills five desp...</td>\n",
       "      <td>BEIJING (Reuters) - A fire in a southern neigh...</td>\n",
       "      <td>worldnews</td>\n",
       "      <td>13-Dec-17</td>\n",
       "      <td>0</td>\n",
       "    </tr>\n",
       "    <tr>\n",
       "      <th>14037</th>\n",
       "      <td>TRUMP SWEEPS FIVE STATES: Will GOP Elites Look...</td>\n",
       "      <td>Establishment Republican and Never-Trumper Ste...</td>\n",
       "      <td>politics</td>\n",
       "      <td>26-Apr-16</td>\n",
       "      <td>1</td>\n",
       "    </tr>\n",
       "    <tr>\n",
       "      <th>10886</th>\n",
       "      <td>REPORT: PRESIDENT TRUMP To Replace Sean Spicer...</td>\n",
       "      <td>It s no secret that President Trump is very mu...</td>\n",
       "      <td>politics</td>\n",
       "      <td>14-May-17</td>\n",
       "      <td>1</td>\n",
       "    </tr>\n",
       "    <tr>\n",
       "      <th>2029</th>\n",
       "      <td>U.S. Energy Department grid study calls for bo...</td>\n",
       "      <td>WASHINGTON/LOS ANGELES (Reuters) - A U.S. Ener...</td>\n",
       "      <td>politicsNews</td>\n",
       "      <td>24-Aug-17</td>\n",
       "      <td>0</td>\n",
       "    </tr>\n",
       "    <tr>\n",
       "      <th>16765</th>\n",
       "      <td>Russia's Lavrov says Russia committed to Iraq ...</td>\n",
       "      <td>MOSCOW (Reuters) - Russian Foreign Minister Se...</td>\n",
       "      <td>worldnews</td>\n",
       "      <td>23-Oct-17</td>\n",
       "      <td>0</td>\n",
       "    </tr>\n",
       "  </tbody>\n",
       "</table>\n",
       "</div>"
      ],
      "text/plain": [
       "                                                   title  \\\n",
       "15940  Russian bombers hit militant targets in Syria'...   \n",
       "14114  WOMAN CRIES After Seeing How Easily Our Votes ...   \n",
       "9291   NATO's top soldier says Trump comments play in...   \n",
       "23089  CNN’s Don Lemon Tries to Downplay Horrific ‘An...   \n",
       "18566  HILLARY APPEARS Wearing “Anti-Seizure” Sunglas...   \n",
       "13524  HOW HILLARY’S ANTI-COP Past And Support For Vi...   \n",
       "1858    Syrian Air Base Trump Spent $80 Million Attac...   \n",
       "10427  #YouveBeenTrumped…Journalist Who Tried To Nail...   \n",
       "19936  U.S. nearing limits of diplomacy on North Kore...   \n",
       "21314  Explain your results, beaten Angola party head...   \n",
       "13829  Islamic State raises stakes with Egypt mosque ...   \n",
       "299     Wounded Veteran CONDEMNS Trump For Using Him ...   \n",
       "19188  Swiss voters reject raising women's retirement...   \n",
       "18267  Brazil's congress sets up fund to cover lack o...   \n",
       "879     Idiot Donald Trump Jr. Just Released Russian ...   \n",
       "12440  Latest fire in Chinese capital kills five desp...   \n",
       "14037  TRUMP SWEEPS FIVE STATES: Will GOP Elites Look...   \n",
       "10886  REPORT: PRESIDENT TRUMP To Replace Sean Spicer...   \n",
       "2029   U.S. Energy Department grid study calls for bo...   \n",
       "16765  Russia's Lavrov says Russia committed to Iraq ...   \n",
       "\n",
       "                                                    text       subject  \\\n",
       "15940  MOSCOW (Reuters) - Six long-range strategic bo...     worldnews   \n",
       "14114   There are people out there who are giving the...      politics   \n",
       "9291   SINGAPORE (Reuters) - NATO’s top military offi...  politicsNews   \n",
       "23089  In case you missed it, CNN anchor Don Lemon we...   Middle-east   \n",
       "18566  Remember when experts came out after Hillary c...     left-news   \n",
       "13524  Maybe the Left became a bit too optimistic aft...      politics   \n",
       "1858   The Syrian air base Trump spent $80 million bo...          News   \n",
       "10427  This is the dumbest and biggest crime in the h...      politics   \n",
       "19936  WASHINGTON (Reuters) - White House national se...     worldnews   \n",
       "21314  LUANDA (Reuters) - The leader of Angola s main...     worldnews   \n",
       "13829  ISMAILIA, Egypt (Reuters) - The mosque was pac...     worldnews   \n",
       "299    Donald Trump thought he could get away with us...          News   \n",
       "19188  ZURICH (Reuters) - Swiss voters rejected raisi...     worldnews   \n",
       "18267  BRASILIA (Reuters) - Brazil s scandal-plagued ...     worldnews   \n",
       "879    Donald Trump Jr. may have been born with a sil...          News   \n",
       "12440  BEIJING (Reuters) - A fire in a southern neigh...     worldnews   \n",
       "14037  Establishment Republican and Never-Trumper Ste...      politics   \n",
       "10886  It s no secret that President Trump is very mu...      politics   \n",
       "2029   WASHINGTON/LOS ANGELES (Reuters) - A U.S. Ener...  politicsNews   \n",
       "16765  MOSCOW (Reuters) - Russian Foreign Minister Se...     worldnews   \n",
       "\n",
       "            date  label  \n",
       "15940   1-Nov-17      0  \n",
       "14114  15-Apr-16      1  \n",
       "9291    3-Jun-16      0  \n",
       "23089   6-Jan-17      1  \n",
       "18566  30-May-17      1  \n",
       "13524  14-Jul-16      1  \n",
       "1858    7-Apr-17      1  \n",
       "10427  11-Jul-17      1  \n",
       "19936  15-Sep-17      0  \n",
       "21314  26-Aug-17      0  \n",
       "13829  26-Nov-17      0  \n",
       "299    28-Sep-17      1  \n",
       "19188  24-Sep-17      0  \n",
       "18267   5-Oct-17      0  \n",
       "879    11-Jul-17      1  \n",
       "12440  13-Dec-17      0  \n",
       "14037  26-Apr-16      1  \n",
       "10886  14-May-17      1  \n",
       "2029   24-Aug-17      0  \n",
       "16765  23-Oct-17      0  "
      ]
     },
     "execution_count": 18,
     "metadata": {},
     "output_type": "execute_result"
    }
   ],
   "source": [
    "newdataset.sample(20)"
   ]
  },
  {
   "cell_type": "code",
   "execution_count": 19,
   "id": "53147ce0",
   "metadata": {},
   "outputs": [
    {
     "data": {
      "text/plain": [
       "title      0\n",
       "text       0\n",
       "subject    0\n",
       "date       0\n",
       "label      0\n",
       "dtype: int64"
      ]
     },
     "execution_count": 19,
     "metadata": {},
     "output_type": "execute_result"
    }
   ],
   "source": [
    "newdataset.isna().sum()"
   ]
  },
  {
   "cell_type": "code",
   "execution_count": 20,
   "id": "98cba946",
   "metadata": {},
   "outputs": [],
   "source": [
    "newdataset['content'] = newdataset['title'] + ' ' + newdataset['text']"
   ]
  },
  {
   "cell_type": "code",
   "execution_count": 21,
   "id": "eb9296ac",
   "metadata": {},
   "outputs": [],
   "source": [
    "X = newdataset.drop('label', axis= 'columns')"
   ]
  },
  {
   "cell_type": "code",
   "execution_count": 22,
   "id": "7c6dcb2f",
   "metadata": {},
   "outputs": [
    {
     "data": {
      "text/html": [
       "<div>\n",
       "<style scoped>\n",
       "    .dataframe tbody tr th:only-of-type {\n",
       "        vertical-align: middle;\n",
       "    }\n",
       "\n",
       "    .dataframe tbody tr th {\n",
       "        vertical-align: top;\n",
       "    }\n",
       "\n",
       "    .dataframe thead th {\n",
       "        text-align: right;\n",
       "    }\n",
       "</style>\n",
       "<table border=\"1\" class=\"dataframe\">\n",
       "  <thead>\n",
       "    <tr style=\"text-align: right;\">\n",
       "      <th></th>\n",
       "      <th>title</th>\n",
       "      <th>text</th>\n",
       "      <th>subject</th>\n",
       "      <th>date</th>\n",
       "      <th>content</th>\n",
       "    </tr>\n",
       "  </thead>\n",
       "  <tbody>\n",
       "    <tr>\n",
       "      <th>0</th>\n",
       "      <td>As U.S. budget fight looms, Republicans flip t...</td>\n",
       "      <td>WASHINGTON (Reuters) - The head of a conservat...</td>\n",
       "      <td>politicsNews</td>\n",
       "      <td>31-Dec-17</td>\n",
       "      <td>As U.S. budget fight looms, Republicans flip t...</td>\n",
       "    </tr>\n",
       "    <tr>\n",
       "      <th>1</th>\n",
       "      <td>U.S. military to accept transgender recruits o...</td>\n",
       "      <td>WASHINGTON (Reuters) - Transgender people will...</td>\n",
       "      <td>politicsNews</td>\n",
       "      <td>29-Dec-17</td>\n",
       "      <td>U.S. military to accept transgender recruits o...</td>\n",
       "    </tr>\n",
       "    <tr>\n",
       "      <th>2</th>\n",
       "      <td>Senior U.S. Republican senator: 'Let Mr. Muell...</td>\n",
       "      <td>WASHINGTON (Reuters) - The special counsel inv...</td>\n",
       "      <td>politicsNews</td>\n",
       "      <td>31-Dec-17</td>\n",
       "      <td>Senior U.S. Republican senator: 'Let Mr. Muell...</td>\n",
       "    </tr>\n",
       "    <tr>\n",
       "      <th>3</th>\n",
       "      <td>FBI Russia probe helped by Australian diplomat...</td>\n",
       "      <td>WASHINGTON (Reuters) - Trump campaign adviser ...</td>\n",
       "      <td>politicsNews</td>\n",
       "      <td>30-Dec-17</td>\n",
       "      <td>FBI Russia probe helped by Australian diplomat...</td>\n",
       "    </tr>\n",
       "    <tr>\n",
       "      <th>4</th>\n",
       "      <td>Trump wants Postal Service to charge 'much mor...</td>\n",
       "      <td>SEATTLE/WASHINGTON (Reuters) - President Donal...</td>\n",
       "      <td>politicsNews</td>\n",
       "      <td>29-Dec-17</td>\n",
       "      <td>Trump wants Postal Service to charge 'much mor...</td>\n",
       "    </tr>\n",
       "    <tr>\n",
       "      <th>5</th>\n",
       "      <td>White House, Congress prepare for talks on spe...</td>\n",
       "      <td>WEST PALM BEACH, Fla./WASHINGTON (Reuters) - T...</td>\n",
       "      <td>politicsNews</td>\n",
       "      <td>29-Dec-17</td>\n",
       "      <td>White House, Congress prepare for talks on spe...</td>\n",
       "    </tr>\n",
       "    <tr>\n",
       "      <th>6</th>\n",
       "      <td>Trump says Russia probe will be fair, but time...</td>\n",
       "      <td>WEST PALM BEACH, Fla (Reuters) - President Don...</td>\n",
       "      <td>politicsNews</td>\n",
       "      <td>29-Dec-17</td>\n",
       "      <td>Trump says Russia probe will be fair, but time...</td>\n",
       "    </tr>\n",
       "    <tr>\n",
       "      <th>7</th>\n",
       "      <td>Factbox: Trump on Twitter (Dec 29) - Approval ...</td>\n",
       "      <td>The following statements were posted to the ve...</td>\n",
       "      <td>politicsNews</td>\n",
       "      <td>29-Dec-17</td>\n",
       "      <td>Factbox: Trump on Twitter (Dec 29) - Approval ...</td>\n",
       "    </tr>\n",
       "    <tr>\n",
       "      <th>8</th>\n",
       "      <td>Trump on Twitter (Dec 28) - Global Warming</td>\n",
       "      <td>The following statements were posted to the ve...</td>\n",
       "      <td>politicsNews</td>\n",
       "      <td>29-Dec-17</td>\n",
       "      <td>Trump on Twitter (Dec 28) - Global Warming The...</td>\n",
       "    </tr>\n",
       "    <tr>\n",
       "      <th>9</th>\n",
       "      <td>Alabama official to certify Senator-elect Jone...</td>\n",
       "      <td>WASHINGTON (Reuters) - Alabama Secretary of St...</td>\n",
       "      <td>politicsNews</td>\n",
       "      <td>28-Dec-17</td>\n",
       "      <td>Alabama official to certify Senator-elect Jone...</td>\n",
       "    </tr>\n",
       "    <tr>\n",
       "      <th>10</th>\n",
       "      <td>Jones certified U.S. Senate winner despite Moo...</td>\n",
       "      <td>(Reuters) - Alabama officials on Thursday cert...</td>\n",
       "      <td>politicsNews</td>\n",
       "      <td>28-Dec-17</td>\n",
       "      <td>Jones certified U.S. Senate winner despite Moo...</td>\n",
       "    </tr>\n",
       "    <tr>\n",
       "      <th>11</th>\n",
       "      <td>New York governor questions the constitutional...</td>\n",
       "      <td>NEW YORK/WASHINGTON (Reuters) - The new U.S. t...</td>\n",
       "      <td>politicsNews</td>\n",
       "      <td>28-Dec-17</td>\n",
       "      <td>New York governor questions the constitutional...</td>\n",
       "    </tr>\n",
       "    <tr>\n",
       "      <th>12</th>\n",
       "      <td>Factbox: Trump on Twitter (Dec 28) - Vanity Fa...</td>\n",
       "      <td>The following statements were posted to the ve...</td>\n",
       "      <td>politicsNews</td>\n",
       "      <td>28-Dec-17</td>\n",
       "      <td>Factbox: Trump on Twitter (Dec 28) - Vanity Fa...</td>\n",
       "    </tr>\n",
       "    <tr>\n",
       "      <th>13</th>\n",
       "      <td>Trump on Twitter (Dec 27) - Trump, Iraq, Syria</td>\n",
       "      <td>The following statements were posted to the ve...</td>\n",
       "      <td>politicsNews</td>\n",
       "      <td>28-Dec-17</td>\n",
       "      <td>Trump on Twitter (Dec 27) - Trump, Iraq, Syria...</td>\n",
       "    </tr>\n",
       "    <tr>\n",
       "      <th>14</th>\n",
       "      <td>Man says he delivered manure to Mnuchin to pro...</td>\n",
       "      <td>(In Dec. 25 story, in second paragraph, corre...</td>\n",
       "      <td>politicsNews</td>\n",
       "      <td>25-Dec-17</td>\n",
       "      <td>Man says he delivered manure to Mnuchin to pro...</td>\n",
       "    </tr>\n",
       "    <tr>\n",
       "      <th>15</th>\n",
       "      <td>Virginia officials postpone lottery drawing to...</td>\n",
       "      <td>(Reuters) - A lottery drawing to settle a tied...</td>\n",
       "      <td>politicsNews</td>\n",
       "      <td>27-Dec-17</td>\n",
       "      <td>Virginia officials postpone lottery drawing to...</td>\n",
       "    </tr>\n",
       "    <tr>\n",
       "      <th>16</th>\n",
       "      <td>U.S. lawmakers question businessman at 2016 Tr...</td>\n",
       "      <td>WASHINGTON (Reuters) - A Georgian-American bus...</td>\n",
       "      <td>politicsNews</td>\n",
       "      <td>27-Dec-17</td>\n",
       "      <td>U.S. lawmakers question businessman at 2016 Tr...</td>\n",
       "    </tr>\n",
       "    <tr>\n",
       "      <th>17</th>\n",
       "      <td>Trump on Twitter (Dec 26) - Hillary Clinton, T...</td>\n",
       "      <td>The following statements were posted to the ve...</td>\n",
       "      <td>politicsNews</td>\n",
       "      <td>26-Dec-17</td>\n",
       "      <td>Trump on Twitter (Dec 26) - Hillary Clinton, T...</td>\n",
       "    </tr>\n",
       "    <tr>\n",
       "      <th>18</th>\n",
       "      <td>U.S. appeals court rejects challenge to Trump ...</td>\n",
       "      <td>(Reuters) - A U.S. appeals court in Washington...</td>\n",
       "      <td>politicsNews</td>\n",
       "      <td>26-Dec-17</td>\n",
       "      <td>U.S. appeals court rejects challenge to Trump ...</td>\n",
       "    </tr>\n",
       "    <tr>\n",
       "      <th>19</th>\n",
       "      <td>Treasury Secretary Mnuchin was sent gift-wrapp...</td>\n",
       "      <td>(Reuters) - A gift-wrapped package addressed t...</td>\n",
       "      <td>politicsNews</td>\n",
       "      <td>24-Dec-17</td>\n",
       "      <td>Treasury Secretary Mnuchin was sent gift-wrapp...</td>\n",
       "    </tr>\n",
       "  </tbody>\n",
       "</table>\n",
       "</div>"
      ],
      "text/plain": [
       "                                                title  \\\n",
       "0   As U.S. budget fight looms, Republicans flip t...   \n",
       "1   U.S. military to accept transgender recruits o...   \n",
       "2   Senior U.S. Republican senator: 'Let Mr. Muell...   \n",
       "3   FBI Russia probe helped by Australian diplomat...   \n",
       "4   Trump wants Postal Service to charge 'much mor...   \n",
       "5   White House, Congress prepare for talks on spe...   \n",
       "6   Trump says Russia probe will be fair, but time...   \n",
       "7   Factbox: Trump on Twitter (Dec 29) - Approval ...   \n",
       "8          Trump on Twitter (Dec 28) - Global Warming   \n",
       "9   Alabama official to certify Senator-elect Jone...   \n",
       "10  Jones certified U.S. Senate winner despite Moo...   \n",
       "11  New York governor questions the constitutional...   \n",
       "12  Factbox: Trump on Twitter (Dec 28) - Vanity Fa...   \n",
       "13     Trump on Twitter (Dec 27) - Trump, Iraq, Syria   \n",
       "14  Man says he delivered manure to Mnuchin to pro...   \n",
       "15  Virginia officials postpone lottery drawing to...   \n",
       "16  U.S. lawmakers question businessman at 2016 Tr...   \n",
       "17  Trump on Twitter (Dec 26) - Hillary Clinton, T...   \n",
       "18  U.S. appeals court rejects challenge to Trump ...   \n",
       "19  Treasury Secretary Mnuchin was sent gift-wrapp...   \n",
       "\n",
       "                                                 text       subject  \\\n",
       "0   WASHINGTON (Reuters) - The head of a conservat...  politicsNews   \n",
       "1   WASHINGTON (Reuters) - Transgender people will...  politicsNews   \n",
       "2   WASHINGTON (Reuters) - The special counsel inv...  politicsNews   \n",
       "3   WASHINGTON (Reuters) - Trump campaign adviser ...  politicsNews   \n",
       "4   SEATTLE/WASHINGTON (Reuters) - President Donal...  politicsNews   \n",
       "5   WEST PALM BEACH, Fla./WASHINGTON (Reuters) - T...  politicsNews   \n",
       "6   WEST PALM BEACH, Fla (Reuters) - President Don...  politicsNews   \n",
       "7   The following statements were posted to the ve...  politicsNews   \n",
       "8   The following statements were posted to the ve...  politicsNews   \n",
       "9   WASHINGTON (Reuters) - Alabama Secretary of St...  politicsNews   \n",
       "10  (Reuters) - Alabama officials on Thursday cert...  politicsNews   \n",
       "11  NEW YORK/WASHINGTON (Reuters) - The new U.S. t...  politicsNews   \n",
       "12  The following statements were posted to the ve...  politicsNews   \n",
       "13  The following statements were posted to the ve...  politicsNews   \n",
       "14   (In Dec. 25 story, in second paragraph, corre...  politicsNews   \n",
       "15  (Reuters) - A lottery drawing to settle a tied...  politicsNews   \n",
       "16  WASHINGTON (Reuters) - A Georgian-American bus...  politicsNews   \n",
       "17  The following statements were posted to the ve...  politicsNews   \n",
       "18  (Reuters) - A U.S. appeals court in Washington...  politicsNews   \n",
       "19  (Reuters) - A gift-wrapped package addressed t...  politicsNews   \n",
       "\n",
       "         date                                            content  \n",
       "0   31-Dec-17  As U.S. budget fight looms, Republicans flip t...  \n",
       "1   29-Dec-17  U.S. military to accept transgender recruits o...  \n",
       "2   31-Dec-17  Senior U.S. Republican senator: 'Let Mr. Muell...  \n",
       "3   30-Dec-17  FBI Russia probe helped by Australian diplomat...  \n",
       "4   29-Dec-17  Trump wants Postal Service to charge 'much mor...  \n",
       "5   29-Dec-17  White House, Congress prepare for talks on spe...  \n",
       "6   29-Dec-17  Trump says Russia probe will be fair, but time...  \n",
       "7   29-Dec-17  Factbox: Trump on Twitter (Dec 29) - Approval ...  \n",
       "8   29-Dec-17  Trump on Twitter (Dec 28) - Global Warming The...  \n",
       "9   28-Dec-17  Alabama official to certify Senator-elect Jone...  \n",
       "10  28-Dec-17  Jones certified U.S. Senate winner despite Moo...  \n",
       "11  28-Dec-17  New York governor questions the constitutional...  \n",
       "12  28-Dec-17  Factbox: Trump on Twitter (Dec 28) - Vanity Fa...  \n",
       "13  28-Dec-17  Trump on Twitter (Dec 27) - Trump, Iraq, Syria...  \n",
       "14  25-Dec-17  Man says he delivered manure to Mnuchin to pro...  \n",
       "15  27-Dec-17  Virginia officials postpone lottery drawing to...  \n",
       "16  27-Dec-17  U.S. lawmakers question businessman at 2016 Tr...  \n",
       "17  26-Dec-17  Trump on Twitter (Dec 26) - Hillary Clinton, T...  \n",
       "18  26-Dec-17  U.S. appeals court rejects challenge to Trump ...  \n",
       "19  24-Dec-17  Treasury Secretary Mnuchin was sent gift-wrapp...  "
      ]
     },
     "execution_count": 22,
     "metadata": {},
     "output_type": "execute_result"
    }
   ],
   "source": [
    "X.head(20)"
   ]
  },
  {
   "cell_type": "code",
   "execution_count": 23,
   "id": "7765d820",
   "metadata": {},
   "outputs": [],
   "source": [
    "Y = newdataset.label "
   ]
  },
  {
   "cell_type": "code",
   "execution_count": 24,
   "id": "2c461c71",
   "metadata": {},
   "outputs": [
    {
     "data": {
      "text/plain": [
       "0      0\n",
       "1      0\n",
       "2      0\n",
       "3      0\n",
       "4      0\n",
       "      ..\n",
       "195    0\n",
       "196    0\n",
       "197    0\n",
       "198    0\n",
       "199    0\n",
       "Name: label, Length: 200, dtype: int64"
      ]
     },
     "execution_count": 24,
     "metadata": {},
     "output_type": "execute_result"
    }
   ],
   "source": [
    "Y.head(200)"
   ]
  },
  {
   "cell_type": "code",
   "execution_count": 25,
   "id": "0c3b95ba",
   "metadata": {},
   "outputs": [
    {
     "name": "stderr",
     "output_type": "stream",
     "text": [
      "[nltk_data] Error loading stopwords: <urlopen error [Errno 11001]\n",
      "[nltk_data]     getaddrinfo failed>\n"
     ]
    },
    {
     "data": {
      "text/plain": [
       "False"
      ]
     },
     "execution_count": 25,
     "metadata": {},
     "output_type": "execute_result"
    }
   ],
   "source": [
    "nltk.download('stopwords')"
   ]
  },
  {
   "cell_type": "code",
   "execution_count": 26,
   "id": "069fb1b2",
   "metadata": {},
   "outputs": [
    {
     "data": {
      "text/plain": [
       "['i',\n",
       " 'me',\n",
       " 'my',\n",
       " 'myself',\n",
       " 'we',\n",
       " 'our',\n",
       " 'ours',\n",
       " 'ourselves',\n",
       " 'you',\n",
       " \"you're\",\n",
       " \"you've\",\n",
       " \"you'll\",\n",
       " \"you'd\",\n",
       " 'your',\n",
       " 'yours',\n",
       " 'yourself',\n",
       " 'yourselves',\n",
       " 'he',\n",
       " 'him',\n",
       " 'his',\n",
       " 'himself',\n",
       " 'she',\n",
       " \"she's\",\n",
       " 'her',\n",
       " 'hers',\n",
       " 'herself',\n",
       " 'it',\n",
       " \"it's\",\n",
       " 'its',\n",
       " 'itself',\n",
       " 'they',\n",
       " 'them',\n",
       " 'their',\n",
       " 'theirs',\n",
       " 'themselves',\n",
       " 'what',\n",
       " 'which',\n",
       " 'who',\n",
       " 'whom',\n",
       " 'this',\n",
       " 'that',\n",
       " \"that'll\",\n",
       " 'these',\n",
       " 'those',\n",
       " 'am',\n",
       " 'is',\n",
       " 'are',\n",
       " 'was',\n",
       " 'were',\n",
       " 'be',\n",
       " 'been',\n",
       " 'being',\n",
       " 'have',\n",
       " 'has',\n",
       " 'had',\n",
       " 'having',\n",
       " 'do',\n",
       " 'does',\n",
       " 'did',\n",
       " 'doing',\n",
       " 'a',\n",
       " 'an',\n",
       " 'the',\n",
       " 'and',\n",
       " 'but',\n",
       " 'if',\n",
       " 'or',\n",
       " 'because',\n",
       " 'as',\n",
       " 'until',\n",
       " 'while',\n",
       " 'of',\n",
       " 'at',\n",
       " 'by',\n",
       " 'for',\n",
       " 'with',\n",
       " 'about',\n",
       " 'against',\n",
       " 'between',\n",
       " 'into',\n",
       " 'through',\n",
       " 'during',\n",
       " 'before',\n",
       " 'after',\n",
       " 'above',\n",
       " 'below',\n",
       " 'to',\n",
       " 'from',\n",
       " 'up',\n",
       " 'down',\n",
       " 'in',\n",
       " 'out',\n",
       " 'on',\n",
       " 'off',\n",
       " 'over',\n",
       " 'under',\n",
       " 'again',\n",
       " 'further',\n",
       " 'then',\n",
       " 'once',\n",
       " 'here',\n",
       " 'there',\n",
       " 'when',\n",
       " 'where',\n",
       " 'why',\n",
       " 'how',\n",
       " 'all',\n",
       " 'any',\n",
       " 'both',\n",
       " 'each',\n",
       " 'few',\n",
       " 'more',\n",
       " 'most',\n",
       " 'other',\n",
       " 'some',\n",
       " 'such',\n",
       " 'no',\n",
       " 'nor',\n",
       " 'not',\n",
       " 'only',\n",
       " 'own',\n",
       " 'same',\n",
       " 'so',\n",
       " 'than',\n",
       " 'too',\n",
       " 'very',\n",
       " 's',\n",
       " 't',\n",
       " 'can',\n",
       " 'will',\n",
       " 'just',\n",
       " 'don',\n",
       " \"don't\",\n",
       " 'should',\n",
       " \"should've\",\n",
       " 'now',\n",
       " 'd',\n",
       " 'll',\n",
       " 'm',\n",
       " 'o',\n",
       " 're',\n",
       " 've',\n",
       " 'y',\n",
       " 'ain',\n",
       " 'aren',\n",
       " \"aren't\",\n",
       " 'couldn',\n",
       " \"couldn't\",\n",
       " 'didn',\n",
       " \"didn't\",\n",
       " 'doesn',\n",
       " \"doesn't\",\n",
       " 'hadn',\n",
       " \"hadn't\",\n",
       " 'hasn',\n",
       " \"hasn't\",\n",
       " 'haven',\n",
       " \"haven't\",\n",
       " 'isn',\n",
       " \"isn't\",\n",
       " 'ma',\n",
       " 'mightn',\n",
       " \"mightn't\",\n",
       " 'mustn',\n",
       " \"mustn't\",\n",
       " 'needn',\n",
       " \"needn't\",\n",
       " 'shan',\n",
       " \"shan't\",\n",
       " 'shouldn',\n",
       " \"shouldn't\",\n",
       " 'wasn',\n",
       " \"wasn't\",\n",
       " 'weren',\n",
       " \"weren't\",\n",
       " 'won',\n",
       " \"won't\",\n",
       " 'wouldn',\n",
       " \"wouldn't\"]"
      ]
     },
     "execution_count": 26,
     "metadata": {},
     "output_type": "execute_result"
    }
   ],
   "source": [
    "stopwords.words('english')"
   ]
  },
  {
   "cell_type": "code",
   "execution_count": 27,
   "id": "79a0e7d7",
   "metadata": {},
   "outputs": [],
   "source": [
    "#Steaming:"
   ]
  },
  {
   "cell_type": "code",
   "execution_count": 28,
   "id": "abd5928f",
   "metadata": {},
   "outputs": [],
   "source": [
    "port_stem = PorterStemmer()"
   ]
  },
  {
   "cell_type": "code",
   "execution_count": 29,
   "id": "bd3b5ffd",
   "metadata": {},
   "outputs": [],
   "source": [
    "def steaming(context):\n",
    "    stemmed_context = re.sub('[^a-zA-Z]',' ', context)\n",
    "    stemmed_context = stemmed_context.lower()\n",
    "    stemmed_context = stemmed_context.split()\n",
    "    stemmed_context = [port_stem.stem(word) for word in stemmed_context if not word in stopwords.words('english')]\n",
    "    stemmed_context = ' '.join(stemmed_context)\n",
    "    return stemmed_context"
   ]
  },
  {
   "cell_type": "code",
   "execution_count": 30,
   "id": "1d1c0314",
   "metadata": {},
   "outputs": [],
   "source": [
    "X['content'] = X['content'].apply(steaming)"
   ]
  },
  {
   "cell_type": "code",
   "execution_count": 33,
   "id": "db50f60a",
   "metadata": {},
   "outputs": [
    {
     "data": {
      "text/plain": [
       "0        u budget fight loom republican flip fiscal scr...\n",
       "1        u militari accept transgend recruit monday pen...\n",
       "2        senior u republican senat let mr mueller job w...\n",
       "3        fbi russia probe help australian diplomat tip ...\n",
       "4        trump want postal servic charg much amazon shi...\n",
       "                               ...                        \n",
       "23497    mcpain john mccain furiou iran treat us sailor...\n",
       "23498    justic yahoo settl e mail privaci class action...\n",
       "23499    sunnistan us alli safe zone plan take territor...\n",
       "23500    blow million al jazeera america final call qui...\n",
       "23501    u navi sailor held iranian militari sign neoco...\n",
       "Name: content, Length: 44919, dtype: object"
      ]
     },
     "execution_count": 33,
     "metadata": {},
     "output_type": "execute_result"
    }
   ],
   "source": [
    "X.content"
   ]
  },
  {
   "cell_type": "code",
   "execution_count": 46,
   "id": "2d1bc20a",
   "metadata": {},
   "outputs": [],
   "source": [
    "x = X.content"
   ]
  },
  {
   "cell_type": "code",
   "execution_count": 47,
   "id": "290fd0ae",
   "metadata": {},
   "outputs": [
    {
     "data": {
      "text/plain": [
       "0        u budget fight loom republican flip fiscal scr...\n",
       "1        u militari accept transgend recruit monday pen...\n",
       "2        senior u republican senat let mr mueller job w...\n",
       "3        fbi russia probe help australian diplomat tip ...\n",
       "4        trump want postal servic charg much amazon shi...\n",
       "                               ...                        \n",
       "23497    mcpain john mccain furiou iran treat us sailor...\n",
       "23498    justic yahoo settl e mail privaci class action...\n",
       "23499    sunnistan us alli safe zone plan take territor...\n",
       "23500    blow million al jazeera america final call qui...\n",
       "23501    u navi sailor held iranian militari sign neoco...\n",
       "Name: content, Length: 44919, dtype: object"
      ]
     },
     "execution_count": 47,
     "metadata": {},
     "output_type": "execute_result"
    }
   ],
   "source": [
    "x"
   ]
  },
  {
   "cell_type": "code",
   "execution_count": 48,
   "id": "77389029",
   "metadata": {},
   "outputs": [
    {
     "data": {
      "text/plain": [
       "0        0\n",
       "1        0\n",
       "2        0\n",
       "3        0\n",
       "4        0\n",
       "        ..\n",
       "23497    1\n",
       "23498    1\n",
       "23499    1\n",
       "23500    1\n",
       "23501    1\n",
       "Name: label, Length: 44919, dtype: int64"
      ]
     },
     "execution_count": 48,
     "metadata": {},
     "output_type": "execute_result"
    }
   ],
   "source": [
    "Y"
   ]
  },
  {
   "cell_type": "code",
   "execution_count": 49,
   "id": "c6ceea80",
   "metadata": {},
   "outputs": [],
   "source": [
    "vectorizer = TfidfVectorizer()"
   ]
  },
  {
   "cell_type": "code",
   "execution_count": 50,
   "id": "1c9754ee",
   "metadata": {},
   "outputs": [
    {
     "data": {
      "text/plain": [
       "TfidfVectorizer()"
      ]
     },
     "execution_count": 50,
     "metadata": {},
     "output_type": "execute_result"
    }
   ],
   "source": [
    "vectorizer.fit(x)"
   ]
  },
  {
   "cell_type": "code",
   "execution_count": 51,
   "id": "cb577de3",
   "metadata": {},
   "outputs": [],
   "source": [
    "x = vectorizer.transform(x)"
   ]
  },
  {
   "cell_type": "code",
   "execution_count": 55,
   "id": "25df6d25",
   "metadata": {},
   "outputs": [
    {
     "name": "stdout",
     "output_type": "stream",
     "text": [
      "  (0, 88359)\t0.03096273975211999\n",
      "  (0, 88005)\t0.02578424997856235\n",
      "  (0, 87885)\t0.04427774526335574\n",
      "  (0, 86582)\t0.04061602488686232\n",
      "  (0, 86500)\t0.018688497867248282\n",
      "  (0, 85803)\t0.03465841572966105\n",
      "  (0, 85775)\t0.0601625567405423\n",
      "  (0, 85541)\t0.01951118528158401\n",
      "  (0, 85205)\t0.026461590206443633\n",
      "  (0, 85147)\t0.020733173355255013\n",
      "  (0, 85145)\t0.044847224289589274\n",
      "  (0, 85016)\t0.035360655710833036\n",
      "  (0, 85003)\t0.04541141933632815\n",
      "  (0, 84790)\t0.019791591284202444\n",
      "  (0, 84642)\t0.03717931016552988\n",
      "  (0, 84510)\t0.07366199818134046\n",
      "  (0, 84416)\t0.060644787425099926\n",
      "  (0, 83947)\t0.08476411516785935\n",
      "  (0, 82290)\t0.018661178874757073\n",
      "  (0, 82202)\t0.03018856717171547\n",
      "  (0, 81572)\t0.018193995834523247\n",
      "  (0, 80231)\t0.022722175473623655\n",
      "  (0, 79494)\t0.09522744280705717\n",
      "  (0, 79292)\t0.12556154714223067\n",
      "  (0, 79214)\t0.04135330874450193\n",
      "  :\t:\n",
      "  (44918, 7918)\t0.03005688119195283\n",
      "  (44918, 6634)\t0.021705490578467712\n",
      "  (44918, 6163)\t0.016167761271203243\n",
      "  (44918, 5524)\t0.035726865550926246\n",
      "  (44918, 5364)\t0.04219119565039707\n",
      "  (44918, 4841)\t0.01682815335661431\n",
      "  (44918, 4658)\t0.018008056599936255\n",
      "  (44918, 4436)\t0.02770172460434856\n",
      "  (44918, 4034)\t0.015839850568834545\n",
      "  (44918, 3822)\t0.018976071343416903\n",
      "  (44918, 3545)\t0.016008976244631625\n",
      "  (44918, 3433)\t0.03233549779306883\n",
      "  (44918, 3212)\t0.020912859738110468\n",
      "  (44918, 2574)\t0.03656855923362869\n",
      "  (44918, 2300)\t0.010177977645911647\n",
      "  (44918, 2027)\t0.05899384658639486\n",
      "  (44918, 1480)\t0.019762443226338747\n",
      "  (44918, 1431)\t0.01905006903072231\n",
      "  (44918, 1350)\t0.020197463466241673\n",
      "  (44918, 1225)\t0.07382005984658405\n",
      "  (44918, 1065)\t0.02697398260403573\n",
      "  (44918, 660)\t0.01481329424947\n",
      "  (44918, 624)\t0.019858448932743956\n",
      "  (44918, 610)\t0.01613110515418282\n",
      "  (44918, 494)\t0.06726374359867757\n"
     ]
    }
   ],
   "source": [
    "print(x)"
   ]
  },
  {
   "cell_type": "markdown",
   "id": "c4f14838",
   "metadata": {},
   "source": [
    "# Spliting The Dataset into test band train"
   ]
  },
  {
   "cell_type": "code",
   "execution_count": 56,
   "id": "ed5aad57",
   "metadata": {},
   "outputs": [],
   "source": [
    "x_train, x_test, y_train, y_test = train_test_split(x, Y, test_size = 0.2, random_state=2, stratify = Y)"
   ]
  },
  {
   "cell_type": "code",
   "execution_count": 91,
   "id": "4387d8f3",
   "metadata": {},
   "outputs": [
    {
     "name": "stdout",
     "output_type": "stream",
     "text": [
      "8984\n"
     ]
    }
   ],
   "source": [
    "print(len(y_test))"
   ]
  },
  {
   "cell_type": "code",
   "execution_count": 57,
   "id": "85da1eb6",
   "metadata": {},
   "outputs": [],
   "source": [
    "model = LogisticRegression()"
   ]
  },
  {
   "cell_type": "code",
   "execution_count": 58,
   "id": "f6030751",
   "metadata": {},
   "outputs": [
    {
     "data": {
      "text/plain": [
       "LogisticRegression()"
      ]
     },
     "execution_count": 58,
     "metadata": {},
     "output_type": "execute_result"
    }
   ],
   "source": [
    "model.fit(x_train,y_train)"
   ]
  },
  {
   "cell_type": "markdown",
   "id": "252d3900",
   "metadata": {},
   "source": [
    "# Accuracy Score"
   ]
  },
  {
   "cell_type": "code",
   "execution_count": 59,
   "id": "207a44a8",
   "metadata": {},
   "outputs": [],
   "source": [
    "#accuracy on train set\n",
    "x_train_prediction = model.predict(x_train)"
   ]
  },
  {
   "cell_type": "code",
   "execution_count": 60,
   "id": "14f23b07",
   "metadata": {},
   "outputs": [],
   "source": [
    "training_data_accuracy = accuracy_score(x_train_prediction,y_train)"
   ]
  },
  {
   "cell_type": "code",
   "execution_count": 61,
   "id": "2bbc6f42",
   "metadata": {},
   "outputs": [
    {
     "data": {
      "text/plain": [
       "0.9920133574509531"
      ]
     },
     "execution_count": 61,
     "metadata": {},
     "output_type": "execute_result"
    }
   ],
   "source": [
    "training_data_accuracy"
   ]
  },
  {
   "cell_type": "code",
   "execution_count": 62,
   "id": "fe6a95f9",
   "metadata": {},
   "outputs": [],
   "source": [
    "#accuracy for the test set\n",
    "x_test_prediction = model.predict(x_test)"
   ]
  },
  {
   "cell_type": "code",
   "execution_count": 63,
   "id": "7e6028e8",
   "metadata": {},
   "outputs": [],
   "source": [
    "test_data_accuracy = accuracy_score(x_test_prediction,y_test)"
   ]
  },
  {
   "cell_type": "code",
   "execution_count": 64,
   "id": "2c1b44cd",
   "metadata": {},
   "outputs": [
    {
     "data": {
      "text/plain": [
       "0.98753339269813"
      ]
     },
     "execution_count": 64,
     "metadata": {},
     "output_type": "execute_result"
    }
   ],
   "source": [
    "test_data_accuracy"
   ]
  },
  {
   "cell_type": "code",
   "execution_count": 85,
   "id": "0c647176",
   "metadata": {},
   "outputs": [
    {
     "data": {
      "text/plain": [
       "0.9911173445535297"
      ]
     },
     "execution_count": 85,
     "metadata": {},
     "output_type": "execute_result"
    }
   ],
   "source": [
    "model.score(x, Y)"
   ]
  },
  {
   "cell_type": "markdown",
   "id": "eed8abe2",
   "metadata": {},
   "source": [
    "# Making a prediction Model"
   ]
  },
  {
   "cell_type": "code",
   "execution_count": 78,
   "id": "80d9fb96",
   "metadata": {},
   "outputs": [
    {
     "name": "stdout",
     "output_type": "stream",
     "text": [
      "Its a fake news\n"
     ]
    }
   ],
   "source": [
    "x_new = x_test[617]\n",
    "\n",
    "pre = model.predict(x_new)\n",
    "if pre == 1:\n",
    "    print('Its a fake news')\n",
    "else:\n",
    "    print(\"its a real news \")"
   ]
  },
  {
   "cell_type": "code",
   "execution_count": 77,
   "id": "edab7685",
   "metadata": {},
   "outputs": [
    {
     "data": {
      "text/plain": [
       "1"
      ]
     },
     "execution_count": 77,
     "metadata": {},
     "output_type": "execute_result"
    }
   ],
   "source": [
    "y_test[617]"
   ]
  },
  {
   "cell_type": "code",
   "execution_count": 80,
   "id": "be9caf44",
   "metadata": {},
   "outputs": [
    {
     "data": {
      "text/plain": [
       "array([[4238,   45],\n",
       "       [  67, 4634]], dtype=int64)"
      ]
     },
     "execution_count": 80,
     "metadata": {},
     "output_type": "execute_result"
    }
   ],
   "source": [
    "from sklearn.metrics import confusion_matrix\n",
    "\n",
    "y_pred =model.predict(x_test)\n",
    "\n",
    "cm =confusion_matrix(y_test, y_pred)\n",
    "cm"
   ]
  },
  {
   "cell_type": "code",
   "execution_count": 81,
   "id": "bb3ec82c",
   "metadata": {},
   "outputs": [],
   "source": [
    "%matplotlib inline\n",
    "import matplotlib.pyplot as plt\n"
   ]
  },
  {
   "cell_type": "code",
   "execution_count": 82,
   "id": "accdd2c6",
   "metadata": {},
   "outputs": [
    {
     "data": {
      "text/plain": [
       "Text(42.0, 0.5, 'Truth')"
      ]
     },
     "execution_count": 82,
     "metadata": {},
     "output_type": "execute_result"
    },
    {
     "data": {
      "image/png": "[encoded data removed]",
      "text/plain": [
       "<Figure size 504x360 with 2 Axes>"
      ]
     },
     "metadata": {
      "needs_background": "light"
     },
     "output_type": "display_data"
    }
   ],
   "source": [
    "import seaborn as sn\n",
    "plt.figure(figsize = (7,5))\n",
    "sn.heatmap(cm, annot = True)\n",
    "plt.xlabel('predicted')\n",
    "plt.ylabel('Truth')"
   ]
  },
  {
   "cell_type": "code",
   "execution_count": 83,
   "id": "b2038514",
   "metadata": {},
   "outputs": [
    {
     "name": "stdout",
     "output_type": "stream",
     "text": [
      "              precision    recall  f1-score   support\n",
      "\n",
      "           0       0.98      0.99      0.99      4283\n",
      "           1       0.99      0.99      0.99      4701\n",
      "\n",
      "    accuracy                           0.99      8984\n",
      "   macro avg       0.99      0.99      0.99      8984\n",
      "weighted avg       0.99      0.99      0.99      8984\n",
      "\n"
     ]
    }
   ],
   "source": [
    "from  sklearn.metrics import classification_report\n",
    "\n",
    "print(classification_report(y_test, y_pred))"
   ]
  },
  {
   "cell_type": "code",
   "execution_count": 92,
   "id": "68b57bf6",
   "metadata": {},
   "outputs": [],
   "source": [
    "import pickle"
   ]
  },
  {
   "cell_type": "code",
   "execution_count": 93,
   "id": "291d89a1",
   "metadata": {},
   "outputs": [],
   "source": [
    "with open ('model_pickle','wb') as f:\n",
    "    pickle.dump(model,f)"
   ]
  },
  {
   "cell_type": "code",
   "execution_count": null,
   "id": "e85f559c",
   "metadata": {},
   "outputs": [],
   "source": []
  }
 ],
 "metadata": {
  "kernelspec": {
   "display_name": "Python 3 (ipykernel)",
   "language": "python",
   "name": "python3"
  },
  "language_info": {
   "codemirror_mode": {
    "name": "ipython",
    "version": 3
   },
   "file_extension": ".py",
   "mimetype": "text/x-python",
   "name": "python",
   "nbconvert_exporter": "python",
   "pygments_lexer": "ipython3",
   "version": "3.9.7"
  }
 },
 "nbformat": 4,
 "nbformat_minor": 5
}
